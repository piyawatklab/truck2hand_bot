{
 "cells": [
  {
   "cell_type": "code",
   "execution_count": 14,
   "metadata": {},
   "outputs": [],
   "source": [
    "from seleniumbase import Driver\n",
    "\n",
    "from selenium import webdriver\n",
    "from selenium.webdriver.common.by import By\n",
    "from selenium.webdriver.common.keys import Keys\n",
    "\n",
    "import time\n",
    "import requests\n",
    "import re\n",
    "\n",
    "import pandas as pd\n",
    "from bs4 import BeautifulSoup\n",
    "from datetime import datetime\n",
    "import os"
   ]
  },
  {
   "cell_type": "code",
   "execution_count": 2,
   "metadata": {},
   "outputs": [
    {
     "data": {
      "text/plain": [
       "166"
      ]
     },
     "execution_count": 2,
     "metadata": {},
     "output_type": "execute_result"
    }
   ],
   "source": [
    "url = 'https://www.truck2hand.com/category/cat_truck/'\n",
    "\n",
    "response = requests.get(url)\n",
    "html_content = response.content\n",
    "soup = BeautifulSoup(html_content, 'html.parser')\n",
    "\n",
    "page_number_text = soup.find('div', class_='css-1w2hcdj').text\n",
    "page_number_arr = re.findall(r'\\d+', page_number_text)\n",
    "page_number_str = ''.join(page_number_arr)\n",
    "page_number = int(page_number_str)\n",
    "page_number"
   ]
  },
  {
   "cell_type": "code",
   "execution_count": 3,
   "metadata": {},
   "outputs": [
    {
     "name": "stdout",
     "output_type": "stream",
     "text": [
      "หน้าที่ 1\n",
      "พบจำนวน 60 รายการ\n",
      "จำนวนสะสม 60 รายการ\n",
      "หน้าที่ 2\n",
      "พบจำนวน 60 รายการ\n",
      "จำนวนสะสม 120 รายการ\n",
      "หน้าที่ 3\n",
      "พบจำนวน 60 รายการ\n",
      "จำนวนสะสม 180 รายการ\n",
      "หน้าที่ 4\n",
      "พบจำนวน 60 รายการ\n",
      "จำนวนสะสม 240 รายการ\n",
      "หน้าที่ 5\n",
      "พบจำนวน 60 รายการ\n",
      "จำนวนสะสม 300 รายการ\n",
      "หน้าที่ 6\n",
      "พบจำนวน 60 รายการ\n",
      "จำนวนสะสม 360 รายการ\n",
      "หน้าที่ 7\n",
      "พบจำนวน 60 รายการ\n",
      "จำนวนสะสม 420 รายการ\n",
      "หน้าที่ 8\n",
      "พบจำนวน 60 รายการ\n",
      "จำนวนสะสม 480 รายการ\n",
      "หน้าที่ 9\n",
      "พบจำนวน 60 รายการ\n",
      "จำนวนสะสม 540 รายการ\n",
      "หน้าที่ 10\n",
      "พบจำนวน 60 รายการ\n",
      "จำนวนสะสม 600 รายการ\n",
      "หน้าที่ 11\n",
      "พบจำนวน 60 รายการ\n",
      "จำนวนสะสม 660 รายการ\n",
      "หน้าที่ 12\n",
      "พบจำนวน 60 รายการ\n",
      "จำนวนสะสม 720 รายการ\n",
      "หน้าที่ 13\n",
      "พบจำนวน 60 รายการ\n",
      "จำนวนสะสม 780 รายการ\n",
      "หน้าที่ 14\n",
      "พบจำนวน 60 รายการ\n",
      "จำนวนสะสม 840 รายการ\n",
      "หน้าที่ 15\n",
      "พบจำนวน 60 รายการ\n",
      "จำนวนสะสม 900 รายการ\n",
      "หน้าที่ 16\n",
      "พบจำนวน 60 รายการ\n",
      "จำนวนสะสม 960 รายการ\n",
      "หน้าที่ 17\n",
      "พบจำนวน 60 รายการ\n",
      "จำนวนสะสม 1020 รายการ\n",
      "หน้าที่ 18\n",
      "พบจำนวน 60 รายการ\n",
      "จำนวนสะสม 1080 รายการ\n",
      "หน้าที่ 19\n",
      "พบจำนวน 60 รายการ\n",
      "จำนวนสะสม 1140 รายการ\n",
      "หน้าที่ 20\n",
      "พบจำนวน 60 รายการ\n",
      "จำนวนสะสม 1200 รายการ\n",
      "หน้าที่ 21\n",
      "พบจำนวน 60 รายการ\n",
      "จำนวนสะสม 1260 รายการ\n",
      "หน้าที่ 22\n",
      "พบจำนวน 60 รายการ\n",
      "จำนวนสะสม 1320 รายการ\n",
      "หน้าที่ 23\n",
      "พบจำนวน 60 รายการ\n",
      "จำนวนสะสม 1380 รายการ\n",
      "หน้าที่ 24\n",
      "พบจำนวน 60 รายการ\n",
      "จำนวนสะสม 1440 รายการ\n",
      "หน้าที่ 25\n",
      "พบจำนวน 60 รายการ\n",
      "จำนวนสะสม 1500 รายการ\n",
      "หน้าที่ 26\n",
      "พบจำนวน 60 รายการ\n",
      "จำนวนสะสม 1560 รายการ\n",
      "หน้าที่ 27\n",
      "พบจำนวน 60 รายการ\n",
      "จำนวนสะสม 1620 รายการ\n",
      "หน้าที่ 28\n",
      "พบจำนวน 60 รายการ\n",
      "จำนวนสะสม 1680 รายการ\n",
      "หน้าที่ 29\n",
      "พบจำนวน 60 รายการ\n",
      "จำนวนสะสม 1740 รายการ\n",
      "หน้าที่ 30\n",
      "พบจำนวน 60 รายการ\n",
      "จำนวนสะสม 1800 รายการ\n",
      "หน้าที่ 31\n",
      "พบจำนวน 60 รายการ\n",
      "จำนวนสะสม 1860 รายการ\n",
      "หน้าที่ 32\n",
      "พบจำนวน 60 รายการ\n",
      "จำนวนสะสม 1920 รายการ\n",
      "หน้าที่ 33\n",
      "พบจำนวน 60 รายการ\n",
      "จำนวนสะสม 1980 รายการ\n",
      "หน้าที่ 34\n",
      "พบจำนวน 60 รายการ\n",
      "จำนวนสะสม 2040 รายการ\n",
      "หน้าที่ 35\n",
      "พบจำนวน 60 รายการ\n",
      "จำนวนสะสม 2100 รายการ\n",
      "หน้าที่ 36\n",
      "พบจำนวน 60 รายการ\n",
      "จำนวนสะสม 2160 รายการ\n",
      "หน้าที่ 37\n",
      "พบจำนวน 60 รายการ\n",
      "จำนวนสะสม 2220 รายการ\n",
      "หน้าที่ 38\n",
      "พบจำนวน 60 รายการ\n",
      "จำนวนสะสม 2280 รายการ\n",
      "หน้าที่ 39\n",
      "พบจำนวน 60 รายการ\n",
      "จำนวนสะสม 2340 รายการ\n",
      "หน้าที่ 40\n",
      "พบจำนวน 60 รายการ\n",
      "จำนวนสะสม 2400 รายการ\n",
      "หน้าที่ 41\n",
      "พบจำนวน 60 รายการ\n",
      "จำนวนสะสม 2460 รายการ\n",
      "หน้าที่ 42\n",
      "พบจำนวน 60 รายการ\n",
      "จำนวนสะสม 2520 รายการ\n",
      "หน้าที่ 43\n",
      "พบจำนวน 60 รายการ\n",
      "จำนวนสะสม 2580 รายการ\n",
      "หน้าที่ 44\n",
      "พบจำนวน 60 รายการ\n",
      "จำนวนสะสม 2640 รายการ\n",
      "หน้าที่ 45\n",
      "พบจำนวน 60 รายการ\n",
      "จำนวนสะสม 2700 รายการ\n",
      "หน้าที่ 46\n",
      "พบจำนวน 60 รายการ\n",
      "จำนวนสะสม 2760 รายการ\n",
      "หน้าที่ 47\n",
      "พบจำนวน 60 รายการ\n",
      "จำนวนสะสม 2820 รายการ\n",
      "หน้าที่ 48\n",
      "พบจำนวน 60 รายการ\n",
      "จำนวนสะสม 2880 รายการ\n",
      "หน้าที่ 49\n",
      "พบจำนวน 60 รายการ\n",
      "จำนวนสะสม 2940 รายการ\n",
      "หน้าที่ 50\n",
      "พบจำนวน 60 รายการ\n",
      "จำนวนสะสม 3000 รายการ\n",
      "หน้าที่ 51\n",
      "พบจำนวน 60 รายการ\n",
      "จำนวนสะสม 3060 รายการ\n",
      "หน้าที่ 52\n",
      "พบจำนวน 60 รายการ\n",
      "จำนวนสะสม 3120 รายการ\n",
      "หน้าที่ 53\n",
      "พบจำนวน 60 รายการ\n",
      "จำนวนสะสม 3180 รายการ\n",
      "หน้าที่ 54\n",
      "พบจำนวน 60 รายการ\n",
      "จำนวนสะสม 3240 รายการ\n",
      "หน้าที่ 55\n",
      "พบจำนวน 60 รายการ\n",
      "จำนวนสะสม 3300 รายการ\n",
      "หน้าที่ 56\n",
      "พบจำนวน 60 รายการ\n",
      "จำนวนสะสม 3360 รายการ\n",
      "หน้าที่ 57\n",
      "พบจำนวน 60 รายการ\n",
      "จำนวนสะสม 3420 รายการ\n",
      "หน้าที่ 58\n",
      "พบจำนวน 60 รายการ\n",
      "จำนวนสะสม 3480 รายการ\n",
      "หน้าที่ 59\n",
      "พบจำนวน 60 รายการ\n",
      "จำนวนสะสม 3540 รายการ\n",
      "หน้าที่ 60\n",
      "พบจำนวน 60 รายการ\n",
      "จำนวนสะสม 3600 รายการ\n",
      "หน้าที่ 61\n",
      "พบจำนวน 60 รายการ\n",
      "จำนวนสะสม 3660 รายการ\n",
      "หน้าที่ 62\n",
      "พบจำนวน 60 รายการ\n",
      "จำนวนสะสม 3720 รายการ\n",
      "หน้าที่ 63\n",
      "พบจำนวน 60 รายการ\n",
      "จำนวนสะสม 3780 รายการ\n",
      "หน้าที่ 64\n",
      "พบจำนวน 60 รายการ\n",
      "จำนวนสะสม 3840 รายการ\n",
      "หน้าที่ 65\n",
      "พบจำนวน 60 รายการ\n",
      "จำนวนสะสม 3900 รายการ\n",
      "หน้าที่ 66\n",
      "พบจำนวน 60 รายการ\n",
      "จำนวนสะสม 3960 รายการ\n",
      "หน้าที่ 67\n",
      "พบจำนวน 60 รายการ\n",
      "จำนวนสะสม 4020 รายการ\n",
      "หน้าที่ 68\n",
      "พบจำนวน 60 รายการ\n",
      "จำนวนสะสม 4080 รายการ\n",
      "หน้าที่ 69\n",
      "พบจำนวน 60 รายการ\n",
      "จำนวนสะสม 4140 รายการ\n",
      "หน้าที่ 70\n",
      "พบจำนวน 60 รายการ\n",
      "จำนวนสะสม 4200 รายการ\n",
      "หน้าที่ 71\n",
      "พบจำนวน 60 รายการ\n",
      "จำนวนสะสม 4260 รายการ\n",
      "หน้าที่ 72\n",
      "พบจำนวน 60 รายการ\n",
      "จำนวนสะสม 4320 รายการ\n",
      "หน้าที่ 73\n",
      "พบจำนวน 60 รายการ\n",
      "จำนวนสะสม 4380 รายการ\n",
      "หน้าที่ 74\n",
      "พบจำนวน 60 รายการ\n",
      "จำนวนสะสม 4440 รายการ\n",
      "หน้าที่ 75\n",
      "พบจำนวน 60 รายการ\n",
      "จำนวนสะสม 4500 รายการ\n",
      "หน้าที่ 76\n",
      "พบจำนวน 60 รายการ\n",
      "จำนวนสะสม 4560 รายการ\n",
      "หน้าที่ 77\n",
      "พบจำนวน 60 รายการ\n",
      "จำนวนสะสม 4620 รายการ\n",
      "หน้าที่ 78\n",
      "พบจำนวน 60 รายการ\n",
      "จำนวนสะสม 4680 รายการ\n",
      "หน้าที่ 79\n",
      "พบจำนวน 60 รายการ\n",
      "จำนวนสะสม 4740 รายการ\n",
      "หน้าที่ 80\n",
      "พบจำนวน 60 รายการ\n",
      "จำนวนสะสม 4800 รายการ\n",
      "หน้าที่ 81\n",
      "พบจำนวน 60 รายการ\n",
      "จำนวนสะสม 4860 รายการ\n",
      "หน้าที่ 82\n",
      "พบจำนวน 60 รายการ\n",
      "จำนวนสะสม 4920 รายการ\n",
      "หน้าที่ 83\n",
      "พบจำนวน 60 รายการ\n",
      "จำนวนสะสม 4980 รายการ\n",
      "หน้าที่ 84\n",
      "พบจำนวน 60 รายการ\n",
      "จำนวนสะสม 5040 รายการ\n",
      "หน้าที่ 85\n",
      "พบจำนวน 60 รายการ\n",
      "จำนวนสะสม 5100 รายการ\n",
      "หน้าที่ 86\n",
      "พบจำนวน 60 รายการ\n",
      "จำนวนสะสม 5160 รายการ\n",
      "หน้าที่ 87\n",
      "พบจำนวน 60 รายการ\n",
      "จำนวนสะสม 5220 รายการ\n",
      "หน้าที่ 88\n",
      "พบจำนวน 60 รายการ\n",
      "จำนวนสะสม 5280 รายการ\n",
      "หน้าที่ 89\n",
      "พบจำนวน 60 รายการ\n",
      "จำนวนสะสม 5340 รายการ\n",
      "หน้าที่ 90\n",
      "พบจำนวน 60 รายการ\n",
      "จำนวนสะสม 5400 รายการ\n",
      "หน้าที่ 91\n",
      "พบจำนวน 60 รายการ\n",
      "จำนวนสะสม 5460 รายการ\n",
      "หน้าที่ 92\n",
      "พบจำนวน 60 รายการ\n",
      "จำนวนสะสม 5520 รายการ\n",
      "หน้าที่ 93\n",
      "พบจำนวน 60 รายการ\n",
      "จำนวนสะสม 5580 รายการ\n",
      "หน้าที่ 94\n",
      "พบจำนวน 60 รายการ\n",
      "จำนวนสะสม 5640 รายการ\n",
      "หน้าที่ 95\n",
      "พบจำนวน 60 รายการ\n",
      "จำนวนสะสม 5700 รายการ\n",
      "หน้าที่ 96\n",
      "พบจำนวน 60 รายการ\n",
      "จำนวนสะสม 5760 รายการ\n",
      "หน้าที่ 97\n",
      "พบจำนวน 60 รายการ\n",
      "จำนวนสะสม 5820 รายการ\n",
      "หน้าที่ 98\n",
      "พบจำนวน 60 รายการ\n",
      "จำนวนสะสม 5880 รายการ\n",
      "หน้าที่ 99\n",
      "พบจำนวน 60 รายการ\n",
      "จำนวนสะสม 5940 รายการ\n",
      "หน้าที่ 100\n",
      "พบจำนวน 60 รายการ\n",
      "จำนวนสะสม 6000 รายการ\n",
      "หน้าที่ 101\n",
      "พบจำนวน 60 รายการ\n",
      "จำนวนสะสม 6060 รายการ\n",
      "หน้าที่ 102\n",
      "พบจำนวน 60 รายการ\n",
      "จำนวนสะสม 6120 รายการ\n",
      "หน้าที่ 103\n",
      "พบจำนวน 60 รายการ\n",
      "จำนวนสะสม 6180 รายการ\n",
      "หน้าที่ 104\n",
      "พบจำนวน 60 รายการ\n",
      "จำนวนสะสม 6240 รายการ\n",
      "หน้าที่ 105\n",
      "พบจำนวน 60 รายการ\n",
      "จำนวนสะสม 6300 รายการ\n",
      "หน้าที่ 106\n",
      "พบจำนวน 60 รายการ\n",
      "จำนวนสะสม 6360 รายการ\n",
      "หน้าที่ 107\n",
      "พบจำนวน 60 รายการ\n",
      "จำนวนสะสม 6420 รายการ\n",
      "หน้าที่ 108\n",
      "พบจำนวน 60 รายการ\n",
      "จำนวนสะสม 6480 รายการ\n",
      "หน้าที่ 109\n",
      "พบจำนวน 60 รายการ\n",
      "จำนวนสะสม 6540 รายการ\n",
      "หน้าที่ 110\n",
      "พบจำนวน 60 รายการ\n",
      "จำนวนสะสม 6600 รายการ\n",
      "หน้าที่ 111\n",
      "พบจำนวน 60 รายการ\n",
      "จำนวนสะสม 6660 รายการ\n",
      "หน้าที่ 112\n",
      "พบจำนวน 60 รายการ\n",
      "จำนวนสะสม 6720 รายการ\n",
      "หน้าที่ 113\n",
      "พบจำนวน 60 รายการ\n",
      "จำนวนสะสม 6780 รายการ\n",
      "หน้าที่ 114\n",
      "พบจำนวน 60 รายการ\n",
      "จำนวนสะสม 6840 รายการ\n",
      "หน้าที่ 115\n",
      "พบจำนวน 60 รายการ\n",
      "จำนวนสะสม 6900 รายการ\n",
      "หน้าที่ 116\n",
      "พบจำนวน 60 รายการ\n",
      "จำนวนสะสม 6960 รายการ\n",
      "หน้าที่ 117\n",
      "พบจำนวน 60 รายการ\n",
      "จำนวนสะสม 7020 รายการ\n",
      "หน้าที่ 118\n",
      "พบจำนวน 60 รายการ\n",
      "จำนวนสะสม 7080 รายการ\n",
      "หน้าที่ 119\n",
      "พบจำนวน 60 รายการ\n",
      "จำนวนสะสม 7140 รายการ\n",
      "หน้าที่ 120\n",
      "พบจำนวน 60 รายการ\n",
      "จำนวนสะสม 7200 รายการ\n",
      "หน้าที่ 121\n",
      "พบจำนวน 60 รายการ\n",
      "จำนวนสะสม 7260 รายการ\n",
      "หน้าที่ 122\n",
      "พบจำนวน 60 รายการ\n",
      "จำนวนสะสม 7320 รายการ\n",
      "หน้าที่ 123\n",
      "พบจำนวน 60 รายการ\n",
      "จำนวนสะสม 7380 รายการ\n",
      "หน้าที่ 124\n",
      "พบจำนวน 60 รายการ\n",
      "จำนวนสะสม 7440 รายการ\n",
      "หน้าที่ 125\n",
      "พบจำนวน 60 รายการ\n",
      "จำนวนสะสม 7500 รายการ\n",
      "หน้าที่ 126\n",
      "พบจำนวน 60 รายการ\n",
      "จำนวนสะสม 7560 รายการ\n",
      "หน้าที่ 127\n",
      "พบจำนวน 60 รายการ\n",
      "จำนวนสะสม 7620 รายการ\n",
      "หน้าที่ 128\n",
      "พบจำนวน 60 รายการ\n",
      "จำนวนสะสม 7680 รายการ\n",
      "หน้าที่ 129\n",
      "พบจำนวน 60 รายการ\n",
      "จำนวนสะสม 7740 รายการ\n",
      "หน้าที่ 130\n",
      "พบจำนวน 60 รายการ\n",
      "จำนวนสะสม 7800 รายการ\n",
      "หน้าที่ 131\n",
      "พบจำนวน 60 รายการ\n",
      "จำนวนสะสม 7860 รายการ\n",
      "หน้าที่ 132\n",
      "พบจำนวน 60 รายการ\n",
      "จำนวนสะสม 7920 รายการ\n",
      "หน้าที่ 133\n",
      "พบจำนวน 60 รายการ\n",
      "จำนวนสะสม 7980 รายการ\n",
      "หน้าที่ 134\n",
      "พบจำนวน 60 รายการ\n",
      "จำนวนสะสม 8040 รายการ\n",
      "หน้าที่ 135\n",
      "พบจำนวน 60 รายการ\n",
      "จำนวนสะสม 8100 รายการ\n",
      "หน้าที่ 136\n",
      "พบจำนวน 60 รายการ\n",
      "จำนวนสะสม 8160 รายการ\n",
      "หน้าที่ 137\n",
      "พบจำนวน 60 รายการ\n",
      "จำนวนสะสม 8220 รายการ\n",
      "หน้าที่ 138\n",
      "พบจำนวน 60 รายการ\n",
      "จำนวนสะสม 8280 รายการ\n",
      "หน้าที่ 139\n",
      "พบจำนวน 60 รายการ\n",
      "จำนวนสะสม 8340 รายการ\n",
      "หน้าที่ 140\n",
      "พบจำนวน 60 รายการ\n",
      "จำนวนสะสม 8400 รายการ\n",
      "หน้าที่ 141\n",
      "พบจำนวน 60 รายการ\n",
      "จำนวนสะสม 8460 รายการ\n",
      "หน้าที่ 142\n",
      "พบจำนวน 60 รายการ\n",
      "จำนวนสะสม 8520 รายการ\n",
      "หน้าที่ 143\n",
      "พบจำนวน 60 รายการ\n",
      "จำนวนสะสม 8580 รายการ\n",
      "หน้าที่ 144\n",
      "พบจำนวน 60 รายการ\n",
      "จำนวนสะสม 8640 รายการ\n",
      "หน้าที่ 145\n",
      "พบจำนวน 60 รายการ\n",
      "จำนวนสะสม 8700 รายการ\n",
      "หน้าที่ 146\n",
      "พบจำนวน 60 รายการ\n",
      "จำนวนสะสม 8760 รายการ\n",
      "หน้าที่ 147\n",
      "พบจำนวน 60 รายการ\n",
      "จำนวนสะสม 8820 รายการ\n",
      "หน้าที่ 148\n",
      "พบจำนวน 60 รายการ\n",
      "จำนวนสะสม 8880 รายการ\n",
      "หน้าที่ 149\n",
      "พบจำนวน 60 รายการ\n",
      "จำนวนสะสม 8940 รายการ\n",
      "หน้าที่ 150\n",
      "พบจำนวน 60 รายการ\n",
      "จำนวนสะสม 9000 รายการ\n",
      "หน้าที่ 151\n",
      "พบจำนวน 60 รายการ\n",
      "จำนวนสะสม 9060 รายการ\n",
      "หน้าที่ 152\n",
      "พบจำนวน 60 รายการ\n",
      "จำนวนสะสม 9120 รายการ\n",
      "หน้าที่ 153\n",
      "พบจำนวน 60 รายการ\n",
      "จำนวนสะสม 9180 รายการ\n",
      "หน้าที่ 154\n",
      "พบจำนวน 60 รายการ\n",
      "จำนวนสะสม 9240 รายการ\n",
      "หน้าที่ 155\n",
      "พบจำนวน 60 รายการ\n",
      "จำนวนสะสม 9300 รายการ\n",
      "หน้าที่ 156\n",
      "พบจำนวน 60 รายการ\n",
      "จำนวนสะสม 9360 รายการ\n",
      "หน้าที่ 157\n",
      "พบจำนวน 60 รายการ\n",
      "จำนวนสะสม 9420 รายการ\n",
      "หน้าที่ 158\n",
      "พบจำนวน 60 รายการ\n",
      "จำนวนสะสม 9480 รายการ\n",
      "หน้าที่ 159\n",
      "พบจำนวน 60 รายการ\n",
      "จำนวนสะสม 9540 รายการ\n",
      "หน้าที่ 160\n",
      "พบจำนวน 60 รายการ\n",
      "จำนวนสะสม 9600 รายการ\n",
      "หน้าที่ 161\n",
      "พบจำนวน 60 รายการ\n",
      "จำนวนสะสม 9660 รายการ\n",
      "หน้าที่ 162\n",
      "พบจำนวน 60 รายการ\n",
      "จำนวนสะสม 9720 รายการ\n",
      "หน้าที่ 163\n",
      "พบจำนวน 60 รายการ\n",
      "จำนวนสะสม 9780 รายการ\n",
      "หน้าที่ 164\n",
      "พบจำนวน 60 รายการ\n",
      "จำนวนสะสม 9840 รายการ\n",
      "หน้าที่ 165\n",
      "พบจำนวน 60 รายการ\n",
      "จำนวนสะสม 9900 รายการ\n",
      "หน้าที่ 166\n",
      "พบจำนวน 60 รายการ\n",
      "จำนวนสะสม 9960 รายการ\n"
     ]
    }
   ],
   "source": [
    "data = []\n",
    "\n",
    "for i in range(page_number):\n",
    "    try :\n",
    "        url = 'https://www.truck2hand.com/category/cat_truck/?page=' + str(i+1)\n",
    "\n",
    "        response = requests.get(url)\n",
    "        html_content = response.content\n",
    "        soup = BeautifulSoup(html_content, 'html.parser')\n",
    "\n",
    "        product_list = soup.find_all('div', class_='css-lq688s')\n",
    "        print('หน้าที่ ' + str(i+1))\n",
    "        print('พบจำนวน ' + str(len(product_list)) + ' รายการ')\n",
    "\n",
    "        for item in product_list:\n",
    "            val = {}\n",
    "            product_link = item.find('a', class_='tracking_AppListingCard-LinkListingItem-VerticalCard')\n",
    "            if product_link :\n",
    "                val['product_link'] = product_link.get('href')\n",
    "                data.append(val)\n",
    "        \n",
    "        print('จำนวนสะสม ' + str(len(data)) + ' รายการ')\n",
    "    except Exception as e:\n",
    "        # จับข้อผิดพลาดอื่นๆ\n",
    "        print(f\"เกิดข้อผิดพลาด : {e}\")"
   ]
  },
  {
   "cell_type": "code",
   "execution_count": 5,
   "metadata": {},
   "outputs": [
    {
     "name": "stdout",
     "output_type": "stream",
     "text": [
      "1/9960 : https://www.truck2hand.com/listing/oGRVnOVgRX/\n",
      "2/9960 : https://www.truck2hand.com/listing/o0LJe3xplD/\n",
      "3/9960 : https://www.truck2hand.com/listing/vjLyyY2OLm/\n",
      "4/9960 : https://www.truck2hand.com/listing/W2L9ozA2NZ/\n",
      "5/9960 : https://www.truck2hand.com/listing/o0LJeAVYlD/\n",
      "6/9960 : https://www.truck2hand.com/listing/rQR0d6QDRO/\n",
      "7/9960 : https://www.truck2hand.com/listing/dXLZn6jEL1/\n",
      "8/9960 : https://www.truck2hand.com/listing/W2L9oZ9dNZ/\n",
      "9/9960 : https://www.truck2hand.com/listing/W2L9oA4eNZ/\n",
      "10/9960 : https://www.truck2hand.com/listing/e0RrgaXdNG/\n"
     ]
    }
   ],
   "source": [
    "unique_data = []\n",
    "for item in data:\n",
    "    if item not in unique_data:\n",
    "        unique_data.append(item)\n",
    "\n",
    "len(unique_data)\n",
    "\n",
    "i=0\n",
    "\n",
    "for data_list in unique_data :\n",
    "    try :\n",
    "        url = 'https://www.truck2hand.com' + data_list['product_link']\n",
    "        print(str(i+1) + '/' + str(len(unique_data)) + ' : ' + url)\n",
    "\n",
    "        response = requests.get(url)\n",
    "        html_content = response.content\n",
    "        soup = BeautifulSoup(html_content, 'html.parser')\n",
    "\n",
    "        val_img = []\n",
    "        img_list = soup.find_all('div', class_='thumbnail')\n",
    "        for img_list_item in img_list :\n",
    "            img_link = img_list_item.find('img').get('src')\n",
    "            # print(img_link)\n",
    "            val_img.append(img_link)\n",
    "        \n",
    "        data_list['img_link'] = val_img\n",
    "\n",
    "        product_price = soup.find('div', class_='css-lf0cfo')\n",
    "        data_list['ราคา'] = product_price.text\n",
    "\n",
    "        product_detail = soup.find('div', class_='css-1dyfksc')\n",
    "        product_detail_li = product_detail.find_all('li')\n",
    "        for product_detail_item in product_detail_li :\n",
    "            data_list[product_detail_item.find('div', class_='name').text] = product_detail_item.find('div', class_='value').text\n",
    "\n",
    "        product_info = soup.find('div', class_='css-1qol0vc')\n",
    "        data_list['ข้อมูลเพิ่มเติม'] = product_info.text\n",
    "        \n",
    "        seller_link = soup.find('a', class_='SellerProfileButton').get('href')\n",
    "        data_list['seller_link'] = seller_link\n",
    "        i+=1\n",
    "\n",
    "    except Exception as e:\n",
    "        # จับข้อผิดพลาดอื่นๆ\n",
    "        print(f\"เกิดข้อผิดพลาด : {e}\")\n",
    "    \n",
    "    if i == 10 :\n",
    "        break"
   ]
  },
  {
   "cell_type": "code",
   "execution_count": null,
   "metadata": {},
   "outputs": [],
   "source": [
    "data"
   ]
  },
  {
   "cell_type": "code",
   "execution_count": 18,
   "metadata": {},
   "outputs": [],
   "source": [
    "def export_to_excel(data):\n",
    "    df = pd.DataFrame(data)\n",
    "\n",
    "    excel_filename = 'output_excel.xlsx'\n",
    "    current_date = datetime.now()\n",
    "    sheet_name = current_date.strftime('%Y-%m-%d')\n",
    "\n",
    "    try:\n",
    "        if os.path.exists(excel_filename):\n",
    "            os.remove(excel_filename)\n",
    "    except PermissionError:\n",
    "        print(f\"ไม่สามารถลบไฟล์ {excel_filename} ได้เนื่องจากไฟล์ถูกใช้งานอยู่\")\n",
    "\n",
    "    # สร้างไฟล์ Excel ใหม่\n",
    "    with pd.ExcelWriter(excel_filename, engine='openpyxl') as writer:\n",
    "        df.to_excel(writer, sheet_name=sheet_name, index=False)\n",
    "\n",
    "    print(f\"Data written to {excel_filename} in sheet {sheet_name}.\")"
   ]
  },
  {
   "cell_type": "code",
   "execution_count": 19,
   "metadata": {},
   "outputs": [
    {
     "name": "stdout",
     "output_type": "stream",
     "text": [
      "Data written to output_excel.xlsx in sheet 2024-10-03.\n"
     ]
    }
   ],
   "source": [
    "export_to_excel(data)"
   ]
  },
  {
   "cell_type": "code",
   "execution_count": null,
   "metadata": {},
   "outputs": [],
   "source": []
  },
  {
   "cell_type": "code",
   "execution_count": null,
   "metadata": {},
   "outputs": [],
   "source": [
    "t = 5\n",
    "for i in range(t):\n",
    "    print(str(i))"
   ]
  },
  {
   "cell_type": "code",
   "execution_count": null,
   "metadata": {},
   "outputs": [],
   "source": [
    "page_number_arr = re.findall(r'\\d+', page_number_text)\n",
    "page_number_arr"
   ]
  },
  {
   "cell_type": "code",
   "execution_count": null,
   "metadata": {},
   "outputs": [],
   "source": [
    "page_number_str = ''.join(page_number_arr)\n",
    "int(page_number_str)"
   ]
  },
  {
   "cell_type": "code",
   "execution_count": null,
   "metadata": {},
   "outputs": [],
   "source": [
    "product_list = soup.find_all('div', class_='css-lq688s')\n",
    "len(product_list)"
   ]
  },
  {
   "cell_type": "code",
   "execution_count": 15,
   "metadata": {},
   "outputs": [],
   "source": [
    "data = []\n",
    "\n",
    "for item in product_list:\n",
    "    val = {}\n",
    "    product_link = item.find('a', class_='tracking_AppListingCard-LinkListingItem-VerticalCard')\n",
    "    if product_link :\n",
    "        val['product_link'] = product_link.get('href')\n",
    "        data.append(val)"
   ]
  },
  {
   "cell_type": "code",
   "execution_count": null,
   "metadata": {},
   "outputs": [],
   "source": [
    "data"
   ]
  },
  {
   "cell_type": "code",
   "execution_count": null,
   "metadata": {},
   "outputs": [],
   "source": []
  },
  {
   "cell_type": "code",
   "execution_count": null,
   "metadata": {},
   "outputs": [],
   "source": []
  },
  {
   "cell_type": "code",
   "execution_count": null,
   "metadata": {},
   "outputs": [],
   "source": []
  },
  {
   "cell_type": "code",
   "execution_count": null,
   "metadata": {},
   "outputs": [],
   "source": []
  },
  {
   "cell_type": "code",
   "execution_count": null,
   "metadata": {},
   "outputs": [],
   "source": []
  },
  {
   "cell_type": "code",
   "execution_count": 2,
   "metadata": {},
   "outputs": [],
   "source": [
    "driver = Driver(uc=True)"
   ]
  },
  {
   "cell_type": "code",
   "execution_count": 3,
   "metadata": {},
   "outputs": [],
   "source": [
    "url = 'https://www.truck2hand.com/listing/gelaPDAQN2/'\n",
    "driver.get(url)"
   ]
  },
  {
   "cell_type": "code",
   "execution_count": 6,
   "metadata": {},
   "outputs": [],
   "source": [
    "data = []\n"
   ]
  },
  {
   "cell_type": "code",
   "execution_count": 51,
   "metadata": {},
   "outputs": [],
   "source": [
    "val = {}"
   ]
  },
  {
   "cell_type": "code",
   "execution_count": 52,
   "metadata": {},
   "outputs": [],
   "source": [
    "val['title'] = driver.title"
   ]
  },
  {
   "cell_type": "code",
   "execution_count": null,
   "metadata": {},
   "outputs": [],
   "source": [
    "val"
   ]
  },
  {
   "cell_type": "code",
   "execution_count": 54,
   "metadata": {},
   "outputs": [],
   "source": [
    "element_list_box = driver.find_element(By.XPATH, \".//div[@class='css-9hc6t2']\")\n",
    "element_list_box_2 = element_list_box.find_element(By.XPATH, \".//ul[@class='list-style-none']\")\n",
    "element_list = element_list_box_2.find_elements(By.XPATH, \".//li\")"
   ]
  },
  {
   "cell_type": "code",
   "execution_count": 55,
   "metadata": {},
   "outputs": [],
   "source": [
    "for item in element_list:\n",
    "    # print(item.find_element(By.XPATH, \".//div[@class='name']\").text)\n",
    "    val[item.find_element(By.XPATH, \".//div[@class='name']\").text] = item.find_element(By.XPATH, \".//div[@class='value']\").text"
   ]
  },
  {
   "cell_type": "code",
   "execution_count": 62,
   "metadata": {},
   "outputs": [],
   "source": [
    "img_element = driver.find_element(By.XPATH, \".//img[@loading='eager']\")\n",
    "val['link_img'] = img_element.get_attribute('src')\n",
    "# img_element.get_attribute('src')"
   ]
  },
  {
   "cell_type": "code",
   "execution_count": 61,
   "metadata": {},
   "outputs": [],
   "source": []
  },
  {
   "cell_type": "code",
   "execution_count": null,
   "metadata": {},
   "outputs": [],
   "source": [
    "val"
   ]
  },
  {
   "cell_type": "code",
   "execution_count": null,
   "metadata": {},
   "outputs": [],
   "source": []
  },
  {
   "cell_type": "code",
   "execution_count": 6,
   "metadata": {},
   "outputs": [],
   "source": [
    "def send_chat_simple(message):\n",
    "\n",
    "    try:\n",
    "        \n",
    "        # Line Notify\n",
    "        url = 'https://notify-api.line.me/api/notify'\n",
    "        token = 'H3ovLE2Wphr9cH0OdrQDhGD9JGQduNnqHDA29oYOlZm'\n",
    "        headers = {'content-type':'application/x-www-form-urlencoded','Authorization':'Bearer '+token}\n",
    "        r = requests.post(url, headers=headers, data = {'message':message})\n",
    "        \n",
    "    except:\n",
    "        pass"
   ]
  },
  {
   "cell_type": "code",
   "execution_count": null,
   "metadata": {},
   "outputs": [],
   "source": [
    "df = pd.read_excel('order.xlsx')\n",
    "    \n",
    "data_dict = df[['Word']].to_dict(orient='records')\n",
    "data_dict"
   ]
  },
  {
   "cell_type": "code",
   "execution_count": null,
   "metadata": {},
   "outputs": [],
   "source": [
    "data_dict[0]['Word']"
   ]
  },
  {
   "cell_type": "code",
   "execution_count": 5,
   "metadata": {},
   "outputs": [],
   "source": [
    "new_data_list_1 = []"
   ]
  },
  {
   "cell_type": "code",
   "execution_count": 3,
   "metadata": {},
   "outputs": [],
   "source": []
  },
  {
   "cell_type": "code",
   "execution_count": 6,
   "metadata": {},
   "outputs": [],
   "source": [
    "# tewww771@gmail.com\n",
    "# Kaoxd925449@"
   ]
  },
  {
   "cell_type": "code",
   "execution_count": 7,
   "metadata": {},
   "outputs": [],
   "source": [
    "driver = Driver(uc=True)"
   ]
  },
  {
   "cell_type": "code",
   "execution_count": null,
   "metadata": {},
   "outputs": [],
   "source": [
    "for item in data_dict :\n",
    "    val = {}\n",
    "    val['word'] = item['Word']\n",
    "\n",
    "    url = 'https://seapik.com/ai-writer/essay-writer'\n",
    "    driver.get(url)\n",
    "\n",
    "    max_time_login = 5\n",
    "    time_login = 0\n",
    "\n",
    "    # df = pd.read_excel('order.xlsx')\n",
    "        \n",
    "    # data_dict = df[['Word']].to_dict(orient='records')\n",
    "    # data_dict\n",
    "\n",
    "    while time_login < max_time_login:\n",
    "        try:\n",
    "            login_button = driver.find_elements(By.XPATH, \"//button[text()='Log in']\")\n",
    "            if len(login_button) == 0 :\n",
    "                \n",
    "                # textarea\n",
    "                textarea = driver.find_elements(By.XPATH, \"//textarea\")\n",
    "                textarea[0].click()\n",
    "                textarea[0].clear()\n",
    "                textarea[0].send_keys(item['Word'])\n",
    "\n",
    "                generate_button = driver.find_elements(By.XPATH, \"//span[text()='Generate']\")\n",
    "                generate_button[0].click()\n",
    "\n",
    "                max_retries = 10  # จำนวนครั้งสูงสุดที่อนุญาตให้วนลูป\n",
    "                attempts = 0\n",
    "                \n",
    "                while attempts < max_retries:\n",
    "                    try:\n",
    "                        # ใส่โค้ดที่อาจเกิด error ตรงนี้\n",
    "                        word_button = driver.find_elements(By.XPATH, \"//button[text()='Word']\")\n",
    "                        word_button[0].click()\n",
    "                        \n",
    "                        output = driver.find_elements(By.XPATH, \"//div[contains(@class, '_6ntrmu') and contains(@class, '_183nv7n') and contains(@class, '_hssrob') and contains(@class, '_l4ow3k') and contains(@class, '_1qtlxb5') and contains(@class, 'astro-6nrxhj4w')]\")\n",
    "                        print(output[0].text)\n",
    "\n",
    "                        print(\"บันทึกเรียบร้อย\")\n",
    "                        break  # ถ้ารันสำเร็จจะหลุดลูปทันที\n",
    "                    except Exception as e:\n",
    "                        attempts += 1\n",
    "                        print(f\"เกิดข้อผิดพลาด: {e}\")\n",
    "                        print(f\"รอสักครู่... (รอบที่ {attempts})\")\n",
    "                        time.sleep(3)\n",
    "                else:\n",
    "                    # ถ้าวนครบ 10 รอบแล้วไม่สำเร็จ ให้แสดง error ใหม่\n",
    "                    print(\"เกิดข้อผิดพลาด: ไม่สามารถรันได้สำเร็จหลังจากพยายาม 10 ครั้ง\")\n",
    "                    \n",
    "                break\n",
    "            \n",
    "            else :\n",
    "                time_login += 1\n",
    "                # print(f\"เกิดข้อผิดพลาด: {e}\")\n",
    "                print(f\"กรุณา Log in เข้าสู้ระบบ... (รอบที่ {time_login})\")\n",
    "                time.sleep(60)\n",
    "\n",
    "        except Exception as e:\n",
    "            time_login += 1\n",
    "            # print(f\"เกิดข้อผิดพลาด: {e}\")\n",
    "            print(\"เกิดข้อผิดพลาด\")\n",
    "            driver.quit()\n",
    "\n",
    "    else:\n",
    "        # ถ้าวนครบ 10 รอบแล้วไม่สำเร็จ ให้แสดง error ใหม่\n",
    "        print(f\"เกิดข้อผิดพลาด: ไม่สามารถรันได้สำเร็จหลังจากพยายาม {max_time_login} ครั้ง\")\n",
    "        driver.quit()"
   ]
  },
  {
   "cell_type": "code",
   "execution_count": null,
   "metadata": {},
   "outputs": [],
   "source": [
    "new_data_list_1"
   ]
  },
  {
   "cell_type": "code",
   "execution_count": 17,
   "metadata": {},
   "outputs": [],
   "source": [
    "url = 'https://seapik.com/ai-writer/essay-writer'\n",
    "driver.get(url)"
   ]
  },
  {
   "cell_type": "code",
   "execution_count": null,
   "metadata": {},
   "outputs": [],
   "source": [
    "output = driver.find_elements(By.XPATH, \"//div[contains(@class, '_6ntrmu') and contains(@class, '_183nv7n') and contains(@class, '_hssrob') and contains(@class, '_l4ow3k') and contains(@class, '_1qtlxb5') and contains(@class, 'astro-6nrxhj4w')]\")\n",
    "output[0].text"
   ]
  },
  {
   "cell_type": "code",
   "execution_count": null,
   "metadata": {},
   "outputs": [],
   "source": []
  },
  {
   "cell_type": "code",
   "execution_count": 10,
   "metadata": {},
   "outputs": [],
   "source": [
    "textarea = driver.find_elements(By.XPATH, \"//textarea\")"
   ]
  },
  {
   "cell_type": "code",
   "execution_count": null,
   "metadata": {},
   "outputs": [],
   "source": [
    "textarea"
   ]
  },
  {
   "cell_type": "code",
   "execution_count": 12,
   "metadata": {},
   "outputs": [],
   "source": []
  },
  {
   "cell_type": "code",
   "execution_count": null,
   "metadata": {},
   "outputs": [],
   "source": [
    "\n",
    "# if len(login_button) == 0 :\n",
    "    \n",
    "#     generate_button = driver.find_elements(By.XPATH, \"//span[text()='Generate']\")\n",
    "#     generate_button[0].click()\n",
    "\n",
    "#     max_retries = 10  # จำนวนครั้งสูงสุดที่อนุญาตให้วนลูป\n",
    "#     attempts = 0\n",
    "    \n",
    "#     while attempts < max_retries:\n",
    "#         try:\n",
    "#             # ใส่โค้ดที่อาจเกิด error ตรงนี้\n",
    "#             word_button = driver.find_elements(By.XPATH, \"//button[text()='Word']\")\n",
    "#             word_button[0].click()\n",
    "            \n",
    "#             print(\"บันทึกเรียบร้อย\")\n",
    "#             break  # ถ้ารันสำเร็จจะหลุดลูปทันที\n",
    "#         except Exception as e:\n",
    "#             attempts += 1\n",
    "#             # print(f\"เกิดข้อผิดพลาด: {e}\")\n",
    "#             print(f\"รอสักครู่... (รอบที่ {attempts})\")\n",
    "#             time.sleep(3)\n",
    "#     else:\n",
    "#         # ถ้าวนครบ 10 รอบแล้วไม่สำเร็จ ให้แสดง error ใหม่\n",
    "#         print(\"เกิดข้อผิดพลาด: ไม่สามารถรันได้สำเร็จหลังจากพยายาม 10 ครั้ง\")\n",
    "    \n",
    "# else :\n",
    "#     send_chat_simple('กรุณาเข้าสู่ระบบ')\n",
    "#     print('กรุณาเข้าสู่ระบบ')"
   ]
  },
  {
   "cell_type": "code",
   "execution_count": null,
   "metadata": {},
   "outputs": [],
   "source": [
    "login_button"
   ]
  },
  {
   "cell_type": "code",
   "execution_count": null,
   "metadata": {},
   "outputs": [],
   "source": [
    "login_button[0]"
   ]
  },
  {
   "cell_type": "code",
   "execution_count": 6,
   "metadata": {},
   "outputs": [],
   "source": [
    "\n",
    "generate_button = driver.find_elements(By.XPATH, \"//span[text()='Generate']\")\n",
    "generate_button[0].click()"
   ]
  },
  {
   "cell_type": "code",
   "execution_count": null,
   "metadata": {},
   "outputs": [],
   "source": [
    "word_button = driver.find_elements(By.XPATH, \"//button[text()='Word']\")\n",
    "word_button\n",
    "# word_button[0].click()"
   ]
  },
  {
   "cell_type": "code",
   "execution_count": 39,
   "metadata": {},
   "outputs": [],
   "source": [
    "word_button[0].click()"
   ]
  },
  {
   "cell_type": "code",
   "execution_count": null,
   "metadata": {},
   "outputs": [],
   "source": []
  },
  {
   "cell_type": "code",
   "execution_count": null,
   "metadata": {},
   "outputs": [],
   "source": []
  },
  {
   "cell_type": "code",
   "execution_count": null,
   "metadata": {},
   "outputs": [],
   "source": []
  },
  {
   "cell_type": "code",
   "execution_count": null,
   "metadata": {},
   "outputs": [],
   "source": []
  },
  {
   "cell_type": "code",
   "execution_count": null,
   "metadata": {},
   "outputs": [],
   "source": [
    "login_with_google_buttons = driver.find_elements(By.XPATH, \"//span[contains(text(), 'Continue with Google')]\")\n",
    "\n",
    "if login_with_google_buttons:\n",
    "    # คลิกปุ่มแรกที่พบ\n",
    "    login_with_google_buttons[0].click()\n",
    "else:\n",
    "    print(\"ไม่พบปุ่มที่มีข้อความ 'Continue with Google'\")\n"
   ]
  },
  {
   "cell_type": "code",
   "execution_count": 19,
   "metadata": {},
   "outputs": [],
   "source": [
    "# เก็บ handle ของหน้าต่างปัจจุบัน (original window)\n",
    "original_window = driver.current_window_handle"
   ]
  },
  {
   "cell_type": "code",
   "execution_count": 20,
   "metadata": {},
   "outputs": [],
   "source": [
    "# เก็บรายการหน้าต่างทั้งหมดที่เปิดอยู่\n",
    "windows = driver.window_handles"
   ]
  },
  {
   "cell_type": "code",
   "execution_count": null,
   "metadata": {},
   "outputs": [],
   "source": [
    "# สลับไปยังหน้าต่างใหม่ (ตัวอย่างนี้เป็นหน้าต่างที่ 2)\n",
    "driver.switch_to.window(windows[1])"
   ]
  },
  {
   "cell_type": "code",
   "execution_count": null,
   "metadata": {},
   "outputs": [],
   "source": [
    "len(windows)"
   ]
  },
  {
   "cell_type": "code",
   "execution_count": 44,
   "metadata": {},
   "outputs": [],
   "source": [
    "email_inputs = driver.find_elements(By.XPATH, \"//input[@type='email']\")\n",
    "\n",
    "if email_inputs:\n",
    "    # ใช้งาน input แรกที่พบ\n",
    "    email_inputs[0].send_keys(\"example@example.com\")\n",
    "    driver.find_element(By.XPATH, \"//span[contains(text(), 'Next')]\").click()\n",
    "    \n",
    "else:\n",
    "    print(\"ไม่พบ input ที่มี type='email'\")"
   ]
  },
  {
   "cell_type": "code",
   "execution_count": null,
   "metadata": {},
   "outputs": [],
   "source": [
    "\n",
    "\n",
    "# สมมติว่ามีการเปิดหน้าต่างใหม่\n",
    "# ตรวจสอบจำนวนหน้าต่างที่เปิด\n",
    "all_windows = driver.window_handles\n",
    "\n",
    "len(all_windows)\n",
    "\n",
    "# # หาหน้าต่างใหม่ที่เพิ่งเปิด (ถ้าเปิดมาแค่ 1 หน้าต่างใหม่)\n",
    "# for window in all_windows:\n",
    "#     if window == original_window:\n",
    "#         driver.switch_to.window(window)\n",
    "#         break\n",
    "\n",
    "# ตอนนี้ Selenium สลับมาที่หน้าต่างใหม่แล้ว\n",
    "print(\"Switched to new window: \", driver.title)\n",
    "\n",
    "# ถ้าคุณต้องการกลับไปที่หน้าต่างเดิม\n",
    "driver.switch_to.window(original_window)\n",
    "print(\"Switched back to original window: \", driver.title)\n"
   ]
  },
  {
   "cell_type": "code",
   "execution_count": null,
   "metadata": {},
   "outputs": [],
   "source": []
  },
  {
   "cell_type": "code",
   "execution_count": null,
   "metadata": {},
   "outputs": [],
   "source": []
  },
  {
   "cell_type": "code",
   "execution_count": 27,
   "metadata": {},
   "outputs": [],
   "source": []
  },
  {
   "cell_type": "code",
   "execution_count": null,
   "metadata": {},
   "outputs": [],
   "source": [
    "login_with_google"
   ]
  },
  {
   "cell_type": "code",
   "execution_count": null,
   "metadata": {},
   "outputs": [],
   "source": [
    "login_button = driver.find_element_by_xpath(\"//button[text()='Log In']\")"
   ]
  },
  {
   "cell_type": "code",
   "execution_count": 43,
   "metadata": {},
   "outputs": [],
   "source": [
    "driver.find_element(By.XPATH, \"//input[@name='username']\").send_keys('phanchavee.puengpuak@lyreco.com')"
   ]
  },
  {
   "cell_type": "code",
   "execution_count": 44,
   "metadata": {},
   "outputs": [],
   "source": [
    "driver.find_element(By.XPATH, \"//input[@name='password']\").send_keys('Phanchavee789#1')"
   ]
  },
  {
   "cell_type": "code",
   "execution_count": 45,
   "metadata": {},
   "outputs": [],
   "source": [
    "driver.find_element(By.XPATH, \"//button[@name='btn_login']\").click()"
   ]
  },
  {
   "cell_type": "code",
   "execution_count": 46,
   "metadata": {},
   "outputs": [],
   "source": [
    "driver.find_element(By.XPATH, \"//button[@class='swal2-confirm btn btn-info btn-fill']\").click()"
   ]
  },
  {
   "cell_type": "code",
   "execution_count": 47,
   "metadata": {},
   "outputs": [],
   "source": [
    "driver.find_element(By.XPATH, \"//a[@name='showSearchForm']\").click()"
   ]
  },
  {
   "cell_type": "code",
   "execution_count": 36,
   "metadata": {},
   "outputs": [],
   "source": [
    "search_doc = driver.find_element(By.XPATH, \"//input[@name='documentNo']\")\n",
    "# .send_keys('2212888655')"
   ]
  },
  {
   "cell_type": "code",
   "execution_count": 32,
   "metadata": {},
   "outputs": [],
   "source": [
    "driver.find_element(By.XPATH, \"//button[@name='doSearch']\").click()"
   ]
  },
  {
   "cell_type": "code",
   "execution_count": 33,
   "metadata": {},
   "outputs": [],
   "source": [
    "invoice_search = driver.find_element(By.TAG_NAME, \"tbody\")"
   ]
  },
  {
   "cell_type": "code",
   "execution_count": 34,
   "metadata": {},
   "outputs": [],
   "source": [
    "invoice_search_line = invoice_search.find_elements(By.TAG_NAME, \"tr\")"
   ]
  },
  {
   "cell_type": "code",
   "execution_count": null,
   "metadata": {},
   "outputs": [],
   "source": [
    "len(invoice_search_line)"
   ]
  },
  {
   "cell_type": "code",
   "execution_count": 35,
   "metadata": {},
   "outputs": [],
   "source": [
    "driver.execute_script(\"arguments[0].scrollIntoView(true);\", invoice_search_line[0])"
   ]
  },
  {
   "cell_type": "code",
   "execution_count": 54,
   "metadata": {},
   "outputs": [],
   "source": [
    "invoice_search_line[0].find_element(By.XPATH, \"//a[@name='downloadPDF0']\").click()"
   ]
  },
  {
   "cell_type": "code",
   "execution_count": 38,
   "metadata": {},
   "outputs": [],
   "source": [
    "search_doc.clear()"
   ]
  },
  {
   "cell_type": "code",
   "execution_count": 39,
   "metadata": {},
   "outputs": [],
   "source": [
    "search_doc.send_keys('2212888655')"
   ]
  },
  {
   "cell_type": "code",
   "execution_count": null,
   "metadata": {},
   "outputs": [],
   "source": [
    "driver.quit()"
   ]
  },
  {
   "cell_type": "code",
   "execution_count": null,
   "metadata": {},
   "outputs": [],
   "source": [
    "! pip install gspread"
   ]
  },
  {
   "cell_type": "code",
   "execution_count": 3,
   "metadata": {},
   "outputs": [],
   "source": [
    "import gspread"
   ]
  },
  {
   "cell_type": "code",
   "execution_count": null,
   "metadata": {},
   "outputs": [],
   "source": [
    "! pip install google-auth"
   ]
  },
  {
   "cell_type": "code",
   "execution_count": 3,
   "metadata": {},
   "outputs": [],
   "source": [
    "import gspread\n",
    "from google.oauth2.service_account import Credentials\n",
    "import csv"
   ]
  },
  {
   "cell_type": "code",
   "execution_count": null,
   "metadata": {},
   "outputs": [],
   "source": [
    "scope = ['https://spreadsheets.google.com/feeds',\n",
    "         'https://www.googleapis.com/auth/drive']\n",
    "\n",
    "credentials = Credentials.from_service_account_file('credentials.json', scopes=scope)\n",
    "\n",
    "client = gspread.authorize(credentials)"
   ]
  },
  {
   "cell_type": "code",
   "execution_count": null,
   "metadata": {},
   "outputs": [],
   "source": [
    "gc = gspread.service_account(filename='test.json')"
   ]
  },
  {
   "cell_type": "code",
   "execution_count": null,
   "metadata": {},
   "outputs": [],
   "source": [
    "import gspread\n",
    "\n",
    "# โหลด Google Sheets โดยใช้ลิงก์ของ Google Sheets\n",
    "gc = gspread.service_account(filename='credentials.json')  # ใช้ credentials.json หรือตัวเลือกอื่น ๆ ตามที่คุณต้องการ\n",
    "\n",
    "# โหลด Google Sheets โดยใช้ลิงก์ของ Google Sheets\n",
    "sheet = gc.open_by_url('ลิงก์ของ Google Sheets')\n",
    "\n",
    "# เลือกชีทที่ต้องการใช้งาน (โดยใช้ชื่อหรือ index ของชีท)\n",
    "worksheet = sheet.get_worksheet(0)  # เลือกชีทที่ 1 (index เริ่มที่ 0)\n",
    "\n",
    "# อ่านข้อมูลจาก Google Sheets\n",
    "data = worksheet.get_all_records()\n",
    "\n",
    "# แสดงข้อมูลที่อ่านได้\n",
    "print(data)"
   ]
  },
  {
   "cell_type": "code",
   "execution_count": null,
   "metadata": {},
   "outputs": [],
   "source": [
    "import csv\n",
    "\n",
    "# เปิดไฟล์ CSV สำหรับอ่าน\n",
    "with open('downloaded_files/invoice - main.csv', newline='') as csvfile:\n",
    "    # ใช้ DictReader เพื่ออ่านข้อมูลแต่ละแถวและแปลงเป็น dictionary\n",
    "    reader = csv.DictReader(csvfile)\n",
    "    \n",
    "    # สร้างลิสต์เพื่อเก็บข้อมูล\n",
    "    data_list = []\n",
    "    \n",
    "    # วนลูปผ่านแต่ละแถวในไฟล์ CSV\n",
    "    for row in reader:\n",
    "        # เพิ่ม dictionary แต่ละแถวเข้าไปในลิสต์\n",
    "        data_list.append(row)\n",
    "\n",
    "# พิมพ์ลิสต์ข้อมูล\n",
    "print(data_list)"
   ]
  },
  {
   "cell_type": "code",
   "execution_count": null,
   "metadata": {},
   "outputs": [],
   "source": [
    "with open('downloaded_files/invoice - main.csv', 'r') as file:\n",
    "    csv_data = file.readlines()\n",
    "\n",
    "data_array = []\n",
    "for line in csv_data:\n",
    "    line = line.strip()\n",
    "    if line == 'invoice':\n",
    "        continue\n",
    "    data_array.append(line)\n",
    "\n",
    "# พิมพ์อาร์เรย์\n",
    "print(data_array)"
   ]
  },
  {
   "cell_type": "code",
   "execution_count": null,
   "metadata": {},
   "outputs": [],
   "source": []
  }
 ],
 "metadata": {
  "kernelspec": {
   "display_name": "Python 3",
   "language": "python",
   "name": "python3"
  },
  "language_info": {
   "codemirror_mode": {
    "name": "ipython",
    "version": 3
   },
   "file_extension": ".py",
   "mimetype": "text/x-python",
   "name": "python",
   "nbconvert_exporter": "python",
   "pygments_lexer": "ipython3",
   "version": "3.12.5"
  }
 },
 "nbformat": 4,
 "nbformat_minor": 2
}
